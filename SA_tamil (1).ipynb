{
 "cells": [
  {
   "cell_type": "markdown",
   "metadata": {
    "id": "ilWJYw_ypqQ6"
   },
   "source": [
    "## importing packages"
   ]
  },
  {
   "cell_type": "code",
   "execution_count": 1,
   "metadata": {
    "id": "gQ_VyPAfpqRM"
   },
   "outputs": [],
   "source": [
    "#importing necessary packages\n",
    "import pandas as pd\n",
    "import numpy as np\n",
    "import matplotlib.pyplot as plt\n",
    "\n",
    "\n",
    "#keras\n",
    "from keras import *\n",
    "from tensorflow.keras.preprocessing import sequence\n",
    "from keras.models import Sequential\n",
    "\n",
    "from keras.layers import Dense, Embedding, LSTM,Flatten,Dropout,Conv2D\n",
    "from tensorflow.keras.optimizers import  Adam\n",
    "from keras import regularizers\n",
    "\n"
   ]
  },
  {
   "cell_type": "markdown",
   "metadata": {
    "id": "cgQDvezuXJXh"
   },
   "source": [
    "## Precessing with datas"
   ]
  },
  {
   "cell_type": "code",
   "execution_count": 40,
   "metadata": {
    "id": "XkHI6qjzp7gi"
   },
   "outputs": [],
   "source": [
    "#importing datasets\n",
    "train=pd.read_csv('book1.csv')\n",
    "test=pd.read_csv('book1.csv')\n"
   ]
  },
  {
   "cell_type": "code",
   "execution_count": 41,
   "metadata": {},
   "outputs": [
    {
     "data": {
      "text/plain": [
       "Source.Name      0\n",
       "Statement        1\n",
       "Output         862\n",
       "dtype: int64"
      ]
     },
     "execution_count": 41,
     "metadata": {},
     "output_type": "execute_result"
    }
   ],
   "source": [
    "train.isnull().sum()"
   ]
  },
  {
   "cell_type": "code",
   "execution_count": 42,
   "metadata": {},
   "outputs": [],
   "source": [
    "train=train.dropna()"
   ]
  },
  {
   "cell_type": "code",
   "execution_count": 43,
   "metadata": {},
   "outputs": [
    {
     "data": {
      "text/plain": [
       "Source.Name    0\n",
       "Statement      0\n",
       "Output         0\n",
       "dtype: int64"
      ]
     },
     "execution_count": 43,
     "metadata": {},
     "output_type": "execute_result"
    }
   ],
   "source": [
    "train.isnull().sum()"
   ]
  },
  {
   "cell_type": "code",
   "execution_count": 44,
   "metadata": {},
   "outputs": [],
   "source": [
    "test=test.dropna()"
   ]
  },
  {
   "cell_type": "code",
   "execution_count": 45,
   "metadata": {},
   "outputs": [
    {
     "data": {
      "text/plain": [
       "Source.Name    0\n",
       "Statement      0\n",
       "Output         0\n",
       "dtype: int64"
      ]
     },
     "execution_count": 45,
     "metadata": {},
     "output_type": "execute_result"
    }
   ],
   "source": [
    "test.isnull().sum()"
   ]
  },
  {
   "cell_type": "code",
   "execution_count": 47,
   "metadata": {},
   "outputs": [],
   "source": [
    "import pandas as pd\n",
    "import re\n",
    "\n",
    "# Define a regular expression to match non-English characters\n",
    "non_english = re.compile('[^a-zA-Z0-9\\s]')\n",
    "\n",
    "# Loop through each column and replace any non-English characters with an empty string\n",
    "for col in train.columns:\n",
    "    if train[col].dtype == object:  # Check if the column is a string or object type\n",
    "        train[col] = train[col].apply(lambda x: non_english.sub('', x) if isinstance(x, str) else x)\n",
    "\n",
    "# Save the cleaned dataframe back to a CSV file\n",
    "train.to_csv('book4.csv', index=False)"
   ]
  },
  {
   "cell_type": "code",
   "execution_count": 48,
   "metadata": {
    "scrolled": true
   },
   "outputs": [
    {
     "data": {
      "text/plain": [
       "array(['Mixedfeelings', 'Positive', 'unknownstate', 'Negative', 'Negati',\n",
       "       'N', 'Neg', '  ', '   ', '          ', 'D', '      ', '',\n",
       "       '40 punch uff  mammukkaaa aaaaaaaaaa', '             ', '6', 'p',\n",
       "       ' ithpwolikkum',\n",
       "       ' adhyam poyi mogam nokk kannadiyil ennitum kanunnillel valla docterem kondu kanik',\n",
       "       'iiiiiii', 'category', 'Positive '], dtype=object)"
      ]
     },
     "execution_count": 48,
     "metadata": {},
     "output_type": "execute_result"
    }
   ],
   "source": [
    "train['Output'].unique()"
   ]
  },
  {
   "cell_type": "code",
   "execution_count": 50,
   "metadata": {},
   "outputs": [],
   "source": [
    "# Drop rows with unclear values\n",
    "train = train[~train['Output'].isin(['iiiiiii', 'p', '6', '40 punch uff mammukkaaa aaaaaaaaaa', 'D', 'Negati'])]\n",
    "\n",
    "# Replace variations of the four categories of interest\n",
    "train['Output'].replace({'Neg': 'Negative', 'N': 'Negative', 'Positive ': 'Positive', 'positive': 'Positive', 'Mixed_feelings': 'Mixedfeelings'}, inplace=True)\n",
    "\n",
    "# Keep only the four categories of interest\n",
    "train = train[train['Output'].isin(['Positive', 'unknownstate', 'Negative', 'Mixedfeelings'])]\n"
   ]
  },
  {
   "cell_type": "code",
   "execution_count": 94,
   "metadata": {
    "colab": {
     "base_uri": "https://localhost:8080/",
     "height": 567
    },
    "id": "dmJePYlXKiyi",
    "outputId": "cd4f85f8-2388-4b31-b10e-f07d511a94dc"
   },
   "outputs": [
    {
     "data": {
      "text/plain": [
       "Positive         28886\n",
       "unknownstate     11239\n",
       "Negative          7316\n",
       "Mixedfeelings     5435\n",
       "Name: Output, dtype: int64"
      ]
     },
     "execution_count": 94,
     "metadata": {},
     "output_type": "execute_result"
    }
   ],
   "source": [
    "#Label counts\n",
    "train['Output'].value_counts()"
   ]
  },
  {
   "cell_type": "code",
   "execution_count": 52,
   "metadata": {},
   "outputs": [],
   "source": [
    "train.to_csv('book5.csv', index=False)"
   ]
  },
  {
   "cell_type": "code",
   "execution_count": null,
   "metadata": {},
   "outputs": [],
   "source": []
  },
  {
   "cell_type": "code",
   "execution_count": 86,
   "metadata": {},
   "outputs": [],
   "source": [
    "#importing datasets\n",
    "train=pd.read_csv('book5.csv')\n",
    "test=pd.read_csv('book5.csv')\n"
   ]
  },
  {
   "cell_type": "code",
   "execution_count": 87,
   "metadata": {},
   "outputs": [
    {
     "data": {
      "text/plain": [
       "Source.Name    0\n",
       "Statement      2\n",
       "Output         0\n",
       "dtype: int64"
      ]
     },
     "execution_count": 87,
     "metadata": {},
     "output_type": "execute_result"
    }
   ],
   "source": [
    "train.isnull().sum()"
   ]
  },
  {
   "cell_type": "code",
   "execution_count": 88,
   "metadata": {},
   "outputs": [],
   "source": [
    "train=train.dropna()"
   ]
  },
  {
   "cell_type": "code",
   "execution_count": 89,
   "metadata": {},
   "outputs": [
    {
     "data": {
      "text/plain": [
       "Source.Name    0\n",
       "Statement      0\n",
       "Output         0\n",
       "dtype: int64"
      ]
     },
     "execution_count": 89,
     "metadata": {},
     "output_type": "execute_result"
    }
   ],
   "source": [
    "train.isnull().sum()"
   ]
  },
  {
   "cell_type": "code",
   "execution_count": 90,
   "metadata": {},
   "outputs": [
    {
     "data": {
      "text/plain": [
       "Source.Name    0\n",
       "Statement      2\n",
       "Output         0\n",
       "dtype: int64"
      ]
     },
     "execution_count": 90,
     "metadata": {},
     "output_type": "execute_result"
    }
   ],
   "source": [
    "test.isnull().sum()"
   ]
  },
  {
   "cell_type": "code",
   "execution_count": 91,
   "metadata": {},
   "outputs": [],
   "source": [
    "test=test.dropna()"
   ]
  },
  {
   "cell_type": "code",
   "execution_count": 92,
   "metadata": {},
   "outputs": [
    {
     "data": {
      "text/plain": [
       "Source.Name    0\n",
       "Statement      0\n",
       "Output         0\n",
       "dtype: int64"
      ]
     },
     "execution_count": 92,
     "metadata": {},
     "output_type": "execute_result"
    }
   ],
   "source": [
    "test.isnull().sum()"
   ]
  },
  {
   "cell_type": "code",
   "execution_count": 96,
   "metadata": {},
   "outputs": [
    {
     "data": {
      "text/plain": [
       "Positive         28886\n",
       "unknownstate     11239\n",
       "Negative          7316\n",
       "Mixedfeelings     5435\n",
       "Name: Output, dtype: int64"
      ]
     },
     "execution_count": 96,
     "metadata": {},
     "output_type": "execute_result"
    }
   ],
   "source": [
    "train['Output'].value_counts()"
   ]
  },
  {
   "cell_type": "code",
   "execution_count": 97,
   "metadata": {},
   "outputs": [
    {
     "data": {
      "text/plain": [
       "array(['Mixedfeelings', 'Positive', 'unknownstate', 'Negative'],\n",
       "      dtype=object)"
      ]
     },
     "execution_count": 97,
     "metadata": {},
     "output_type": "execute_result"
    }
   ],
   "source": [
    "train['Output'].unique()"
   ]
  },
  {
   "cell_type": "markdown",
   "metadata": {
    "id": "r0_3FcxCpqRk"
   },
   "source": [
    "## Removing punctuations"
   ]
  },
  {
   "cell_type": "code",
   "execution_count": 98,
   "metadata": {
    "id": "Ivjg-TzApqRk"
   },
   "outputs": [],
   "source": [
    "#removing punctuations\n",
    "import string\n",
    "def remove_punctuations(txt):\n",
    "    text_nopunc=\"\".join([c for c in txt if c not in string.punctuation])\n",
    "    return text_nopunc\n",
    "train['Statement'] = train['Statement'].fillna('').apply(lambda x: remove_punctuations(x))\n",
    "\n"
   ]
  },
  {
   "cell_type": "code",
   "execution_count": 99,
   "metadata": {
    "id": "xit9OnMZK8m0"
   },
   "outputs": [],
   "source": [
    "#Label encoder\n",
    "from sklearn.preprocessing import LabelEncoder\n",
    "Encoder = LabelEncoder()\n",
    "train['Output']=Encoder.fit_transform(train['Output'])\n",
    "test['Output']= Encoder.fit_transform(test['Output'])\n",
    "\n"
   ]
  },
  {
   "cell_type": "code",
   "execution_count": 100,
   "metadata": {
    "colab": {
     "base_uri": "https://localhost:8080/"
    },
    "id": "d-0iJqOmK_SN",
    "outputId": "63d7f246-c0c9-49a0-c605-1af64b74532d"
   },
   "outputs": [
    {
     "data": {
      "text/plain": [
       "2    28886\n",
       "3    11239\n",
       "1     7316\n",
       "0     5435\n",
       "Name: Output, dtype: int64"
      ]
     },
     "execution_count": 100,
     "metadata": {},
     "output_type": "execute_result"
    }
   ],
   "source": [
    "train['Output'].value_counts()"
   ]
  },
  {
   "cell_type": "markdown",
   "metadata": {
    "id": "SlWopm5orPGV"
   },
   "source": [
    "# **Models**"
   ]
  },
  {
   "cell_type": "markdown",
   "metadata": {
    "id": "Hij1bcrUusaC"
   },
   "source": [
    "# LSTM"
   ]
  },
  {
   "cell_type": "markdown",
   "metadata": {
    "id": "mwpJsLYpuyYH"
   },
   "source": [
    "Word2vec One_hot"
   ]
  },
  {
   "cell_type": "code",
   "execution_count": 65,
   "metadata": {
    "id": "KxlIGFRiuvS7"
   },
   "outputs": [],
   "source": [
    "from keras.preprocessing.text import one_hot\n",
    "\n",
    "#use onehot in train\n",
    "voc_size = 20000\n",
    "\n",
    "train_onehot = [one_hot(words, voc_size)for words in train['Statement']]\n",
    "#dev_onehot = [one_hot(words, voc_size)for words in dev['text']]\n",
    "test_onehot = [one_hot(words, voc_size)for words in test['Statement']]\n",
    "\n"
   ]
  },
  {
   "cell_type": "code",
   "execution_count": 66,
   "metadata": {
    "id": "M6knphhAu4aR"
   },
   "outputs": [],
   "source": [
    "#performing pad_sequences\n",
    "from tensorflow.keras.preprocessing.sequence import pad_sequences\n",
    "\n",
    "sent_length=10\n",
    "embedded_train=pad_sequences(train_onehot,padding='pre',maxlen=sent_length)\n",
    "#embedded_dev=pad_sequences(dev_onehot,padding='pre',maxlen=sent_length)\n",
    "embedded_test = pad_sequences(test_onehot,padding='pre',maxlen=sent_length)\n",
    "\n"
   ]
  },
  {
   "cell_type": "code",
   "execution_count": 67,
   "metadata": {
    "id": "j-isMsvRJkn-"
   },
   "outputs": [],
   "source": [
    "#spliting datas for training\n",
    "train['category_category'] = pd.Categorical(train['Output'])\n",
    "\n",
    "X_train = np.array(embedded_train)\n",
    "y_train = np.array(train['Output'])\n",
    "\n",
    "#X_dev =  np.array(embedded_dev)\n",
    "#y_dev = np.array(dev['category'])\n",
    "\n",
    "X_test =  np.array(embedded_test)\n",
    "y_test = np.array(test['Output'])\n",
    "\n"
   ]
  },
  {
   "cell_type": "code",
   "execution_count": 68,
   "metadata": {},
   "outputs": [
    {
     "data": {
      "text/plain": [
       "array([    0,     0,     0,     0, 16448,  6080, 16484,  4291,  2389,\n",
       "       16448])"
      ]
     },
     "execution_count": 68,
     "metadata": {},
     "output_type": "execute_result"
    }
   ],
   "source": [
    "X_test[1]"
   ]
  },
  {
   "cell_type": "code",
   "execution_count": 70,
   "metadata": {
    "colab": {
     "base_uri": "https://localhost:8080/"
    },
    "id": "3uHTb5XQu4Uw",
    "outputId": "2aeda6e2-650e-4dc6-a27e-8ba4d702a4e9"
   },
   "outputs": [],
   "source": [
    "dim=64\n",
    "num_classes =4\n",
    "from keras.layers import LSTM, Dropout, Dense, Embedding\n",
    "from keras.models import Sequential\n",
    "from tensorflow.keras.optimizers import Adam\n",
    "\n",
    "model = Sequential()\n",
    "model.add(Embedding(voc_size, dim, input_length=sent_length))\n",
    "model.add(Dropout(0.25))\n",
    "model.add(LSTM(100))\n",
    "model.add(Dropout(0.25))\n",
    "model.add(Dense(30, activation='relu'))\n",
    "model.add(Dense(num_classes, activation='softmax'))\n",
    "\n",
    "model.compile(loss='sparse_categorical_crossentropy',\n",
    "              optimizer=Adam(lr=0.001),\n",
    "              metrics=['accuracy'])"
   ]
  },
  {
   "cell_type": "code",
   "execution_count": 71,
   "metadata": {},
   "outputs": [
    {
     "name": "stdout",
     "output_type": "stream",
     "text": [
      "Model: \"sequential_2\"\n",
      "_________________________________________________________________\n",
      " Layer (type)                Output Shape              Param #   \n",
      "=================================================================\n",
      " embedding_2 (Embedding)     (None, 10, 64)            1280000   \n",
      "                                                                 \n",
      " dropout_4 (Dropout)         (None, 10, 64)            0         \n",
      "                                                                 \n",
      " lstm_2 (LSTM)               (None, 100)               66000     \n",
      "                                                                 \n",
      " dropout_5 (Dropout)         (None, 100)               0         \n",
      "                                                                 \n",
      " dense_4 (Dense)             (None, 30)                3030      \n",
      "                                                                 \n",
      " dense_5 (Dense)             (None, 4)                 124       \n",
      "                                                                 \n",
      "=================================================================\n",
      "Total params: 1,349,154\n",
      "Trainable params: 1,349,154\n",
      "Non-trainable params: 0\n",
      "_________________________________________________________________\n"
     ]
    }
   ],
   "source": [
    "#summary of LSTM model\n",
    "model.summary()"
   ]
  },
  {
   "cell_type": "code",
   "execution_count": 72,
   "metadata": {},
   "outputs": [],
   "source": [
    "import matplotlib.pyplot as plt\n"
   ]
  },
  {
   "cell_type": "code",
   "execution_count": 73,
   "metadata": {},
   "outputs": [
    {
     "name": "stdout",
     "output_type": "stream",
     "text": [
      "Epoch 1/10\n",
      "827/827 [==============================] - 39s 43ms/step - loss: 1.0411 - accuracy: 0.5861 - val_loss: 0.8879 - val_accuracy: 0.6701\n",
      "Epoch 2/10\n",
      "827/827 [==============================] - 35s 43ms/step - loss: 0.8864 - accuracy: 0.6583 - val_loss: 0.7393 - val_accuracy: 0.7262\n",
      "Epoch 3/10\n",
      "827/827 [==============================] - 35s 43ms/step - loss: 0.7670 - accuracy: 0.7119 - val_loss: 0.6242 - val_accuracy: 0.7851\n",
      "Epoch 4/10\n",
      "827/827 [==============================] - 36s 43ms/step - loss: 0.6614 - accuracy: 0.7554 - val_loss: 0.5380 - val_accuracy: 0.8164\n",
      "Epoch 5/10\n",
      "827/827 [==============================] - 37s 45ms/step - loss: 0.5767 - accuracy: 0.7863 - val_loss: 0.4699 - val_accuracy: 0.8344\n",
      "Epoch 6/10\n",
      "827/827 [==============================] - 32s 38ms/step - loss: 0.5167 - accuracy: 0.8080 - val_loss: 0.4234 - val_accuracy: 0.8483\n",
      "Epoch 7/10\n",
      "827/827 [==============================] - 23s 28ms/step - loss: 0.4754 - accuracy: 0.8217 - val_loss: 0.3938 - val_accuracy: 0.8575\n",
      "Epoch 8/10\n",
      "827/827 [==============================] - 37s 44ms/step - loss: 0.4436 - accuracy: 0.8331 - val_loss: 0.3649 - val_accuracy: 0.8649\n",
      "Epoch 9/10\n",
      "827/827 [==============================] - 31s 37ms/step - loss: 0.4220 - accuracy: 0.8409 - val_loss: 0.3498 - val_accuracy: 0.8701\n",
      "Epoch 10/10\n",
      "827/827 [==============================] - 27s 32ms/step - loss: 0.3999 - accuracy: 0.8487 - val_loss: 0.3359 - val_accuracy: 0.8737\n"
     ]
    }
   ],
   "source": [
    "# Train the model and save the history\n",
    "history = model.fit(X_train, y_train, validation_data=(X_test, y_test), epochs=10, batch_size=64)\n",
    "\n"
   ]
  },
  {
   "cell_type": "code",
   "execution_count": 74,
   "metadata": {},
   "outputs": [
    {
     "name": "stdout",
     "output_type": "stream",
     "text": [
      "1653/1653 [==============================] - 4s 3ms/step - loss: 0.3359 - accuracy: 0.8737\n",
      "test_acc=0.8736667037010193\n"
     ]
    }
   ],
   "source": [
    "test_loss, test_acc = model.evaluate(X_test, y_test)\n",
    "print(f\"test_acc={test_acc}\")"
   ]
  },
  {
   "cell_type": "code",
   "execution_count": 75,
   "metadata": {
    "id": "IbCrdLjbeBbF"
   },
   "outputs": [],
   "source": [
    "#classified with test set\n",
    "y_pred = model.predict(X_test)"
   ]
  },
  {
   "cell_type": "code",
   "execution_count": 76,
   "metadata": {},
   "outputs": [
    {
     "data": {
      "text/plain": [
       "array([[9.99888062e-01, 6.24667518e-05, 4.92948675e-05, 9.86668454e-08],\n",
       "       [1.28219644e-05, 2.06748318e-05, 9.99958038e-01, 8.43561247e-06],\n",
       "       [4.68140759e-04, 6.15505793e-04, 9.97715950e-01, 1.20040018e-03],\n",
       "       ...,\n",
       "       [4.54822583e-07, 9.99936938e-01, 5.87918330e-05, 3.78994082e-06],\n",
       "       [1.18411815e-04, 6.76065974e-05, 9.99543965e-01, 2.69927055e-04],\n",
       "       [4.17701490e-02, 6.47429526e-02, 6.55909538e-01, 2.37577364e-01]],\n",
       "      dtype=float32)"
      ]
     },
     "execution_count": 76,
     "metadata": {},
     "output_type": "execute_result"
    }
   ],
   "source": [
    "y_pred"
   ]
  },
  {
   "cell_type": "code",
   "execution_count": 77,
   "metadata": {},
   "outputs": [],
   "source": [
    "import numpy as np\n",
    "\n",
    "y_pred = model.predict(X_test)\n",
    "y_pred_labels = np.argmax(y_pred, axis=1)\n"
   ]
  },
  {
   "cell_type": "code",
   "execution_count": 78,
   "metadata": {},
   "outputs": [],
   "source": [
    "from sklearn.metrics import accuracy_score,f1_score,classification_report"
   ]
  },
  {
   "cell_type": "code",
   "execution_count": 79,
   "metadata": {},
   "outputs": [
    {
     "name": "stdout",
     "output_type": "stream",
     "text": [
      "              precision    recall  f1-score   support\n",
      "\n",
      "           0       0.92      0.74      0.82      5435\n",
      "           1       0.95      0.79      0.86      7316\n",
      "           2       0.83      0.98      0.90     28886\n",
      "           3       0.95      0.72      0.82     11239\n",
      "\n",
      "    accuracy                           0.87     52876\n",
      "   macro avg       0.91      0.81      0.85     52876\n",
      "weighted avg       0.88      0.87      0.87     52876\n",
      "\n"
     ]
    }
   ],
   "source": [
    "print(classification_report(y_test,y_pred_labels))"
   ]
  },
  {
   "cell_type": "code",
   "execution_count": 80,
   "metadata": {},
   "outputs": [
    {
     "name": "stdout",
     "output_type": "stream",
     "text": [
      "0.8736666918828958\n"
     ]
    }
   ],
   "source": [
    "print(accuracy_score(y_test,y_pred_labels))"
   ]
  },
  {
   "cell_type": "code",
   "execution_count": 112,
   "metadata": {},
   "outputs": [],
   "source": [
    "model.save(\"model.h5\")"
   ]
  },
  {
   "cell_type": "code",
   "execution_count": 82,
   "metadata": {},
   "outputs": [
    {
     "data": {
      "image/png": "[encoded data removed]",
      "text/plain": [
       "<Figure size 640x480 with 1 Axes>"
      ]
     },
     "metadata": {},
     "output_type": "display_data"
    }
   ],
   "source": [
    "# Plot the training and validation accuracy\n",
    "plt.plot(history.history['accuracy'])\n",
    "plt.plot(history.history['val_accuracy'])\n",
    "plt.title('Model Accuracy')\n",
    "plt.ylabel('Accuracy')\n",
    "plt.xlabel('Epoch')\n",
    "plt.legend(['train', 'val'], loc='upper left')\n",
    "plt.show()"
   ]
  },
  {
   "cell_type": "code",
   "execution_count": 83,
   "metadata": {},
   "outputs": [
    {
     "data": {
      "image/png": "[encoded data removed]",
      "text/plain": [
       "<Figure size 640x480 with 1 Axes>"
      ]
     },
     "metadata": {},
     "output_type": "display_data"
    }
   ],
   "source": [
    "# Plot the training and validation loss\n",
    "plt.plot(history.history['loss'])\n",
    "plt.plot(history.history['val_loss'])\n",
    "plt.title('Model Loss')\n",
    "plt.ylabel('Loss')\n",
    "plt.xlabel('Epoch')\n",
    "plt.legend(['train', 'val'], loc='upper left')\n",
    "plt.show()"
   ]
  },
  {
   "cell_type": "code",
   "execution_count": 84,
   "metadata": {},
   "outputs": [],
   "source": [
    "import numpy as np\n",
    "from keras.preprocessing.text import one_hot\n",
    "from tensorflow.keras.preprocessing.sequence import pad_sequences\n",
    "from keras.models import load_model\n",
    "model = load_model(\"model.h5\")"
   ]
  },
  {
   "cell_type": "code",
   "execution_count": 101,
   "metadata": {},
   "outputs": [],
   "source": [
    "lable=['Mixed_feelings','Negative','Positive','unknown_state']"
   ]
  },
  {
   "cell_type": "code",
   "execution_count": 134,
   "metadata": {},
   "outputs": [],
   "source": [
    "sen=np.array([\"Sorry sir nim yella video nan nodidini yeno manku badidu nodona hantha download madidde e video nodi delete madidini sir thanks\"])\n",
    "voc_size = 20000\n",
    "\n",
    "pre_word = [one_hot(words, voc_size)for words in sen]\n",
    "sent_length=10\n",
    "pre_embedded=pad_sequences(pre_word,padding='pre',maxlen=sent_length)\n",
    "output=np.argmax(model.predict(pre_embedded))\n",
    "lable[output]"
   ]
  },
  {
   "cell_type": "code",
   "execution_count": 135,
   "metadata": {},
   "outputs": [
    {
     "data": {
      "text/plain": [
       "2"
      ]
     },
     "execution_count": 135,
     "metadata": {},
     "output_type": "execute_result"
    }
   ],
   "source": [
    "output"
   ]
  },
  {
   "cell_type": "code",
   "execution_count": null,
   "metadata": {},
   "outputs": [],
   "source": []
  },
  {
   "cell_type": "code",
   "execution_count": 115,
   "metadata": {},
   "outputs": [],
   "source": [
    "from tensorflow.keras.preprocessing.text import Tokenizer\n",
    "\n",
    "# Create tokenizer object\n",
    "tokenizer = Tokenizer(num_words=voc_size, oov_token=\"<OOV>\")\n",
    "\n",
    "# Fit tokenizer on text data\n",
    "tokenizer.fit_on_texts('Statement')\n",
    "\n",
    "# Save tokenizer to file\n",
    "import json\n",
    "\n",
    "tokenizer_json = tokenizer.to_json()\n",
    "with open(\"tokenizer.json\", \"w\", encoding=\"utf-8\") as f:\n",
    "    f.write(json.dumps(tokenizer_json, ensure_ascii=False))\n"
   ]
  },
  {
   "cell_type": "code",
   "execution_count": null,
   "metadata": {},
   "outputs": [],
   "source": []
  },
  {
   "cell_type": "code",
   "execution_count": null,
   "metadata": {},
   "outputs": [],
   "source": []
  },
  {
   "cell_type": "code",
   "execution_count": null,
   "metadata": {},
   "outputs": [],
   "source": []
  }
 ],
 "metadata": {
  "accelerator": "GPU",
  "colab": {
   "collapsed_sections": [],
   "name": "Sentiment analysis-tamilcodemix.ipynb",
   "provenance": []
  },
  "kernelspec": {
   "display_name": "Python 3 (ipykernel)",
   "language": "python",
   "name": "python3"
  },
  "language_info": {
   "codemirror_mode": {
    "name": "ipython",
    "version": 3
   },
   "file_extension": ".py",
   "mimetype": "text/x-python",
   "name": "python",
   "nbconvert_exporter": "python",
   "pygments_lexer": "ipython3",
   "version": "3.9.13"
  }
 },
 "nbformat": 4,
 "nbformat_minor": 1
}
